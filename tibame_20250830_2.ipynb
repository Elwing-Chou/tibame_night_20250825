{
  "nbformat": 4,
  "nbformat_minor": 0,
  "metadata": {
    "colab": {
      "provenance": [],
      "authorship_tag": "ABX9TyPejb5TeBPhNpJJ9qshJNcv",
      "include_colab_link": true
    },
    "kernelspec": {
      "name": "python3",
      "display_name": "Python 3"
    },
    "language_info": {
      "name": "python"
    }
  },
  "cells": [
    {
      "cell_type": "markdown",
      "metadata": {
        "id": "view-in-github",
        "colab_type": "text"
      },
      "source": [
        "<a href=\"https://colab.research.google.com/github/Elwing-Chou/tibame_night_20250825/blob/main/tibame_20250830_2.ipynb\" target=\"_parent\"><img src=\"https://colab.research.google.com/assets/colab-badge.svg\" alt=\"Open In Colab\"/></a>"
      ]
    },
    {
      "cell_type": "markdown",
      "source": [
        "\n",
        "\n",
        "```\n",
        "Python群集型態\n",
        "1. List: 同類型清單\n",
        "[20, 50, 30, 100]\n",
        "key=0 1 2 3\n",
        "\n",
        "2. Dict: 一個複雜東西\n",
        "{\"姓名\":\"Elwing\", \"身高\":175}\n",
        "key=自訂的\n",
        "\n",
        "3. Set: 不重複集合\n",
        "{\"周\", \"王\", \"黃\"}\n",
        "key=沒有\n",
        "\n",
        "```\n",
        "\n"
      ],
      "metadata": {
        "id": "qZGxz_VwkGCO"
      }
    },
    {
      "cell_type": "code",
      "execution_count": 9,
      "metadata": {
        "colab": {
          "base_uri": "https://localhost:8080/"
        },
        "id": "Nq_UTSKjj7qz",
        "outputId": "38d6bc52-e178-412a-fc96-38c67dc5814e"
      },
      "outputs": [
        {
          "output_type": "stream",
          "name": "stdout",
          "text": [
            "{'王', '黃', '周'}\n",
            "{'何', '王', '黃', '周'}\n",
            "{'何', '王', '黃', '周'}\n",
            "{'黃'}\n",
            "{'蔡', '黃', '周', '謝', '何', '王'}\n",
            "{'謝', '蔡'}\n",
            "{'何', '王', '周'}\n"
          ]
        }
      ],
      "source": [
        "names = {\"周\", \"王\", \"黃\", \"周\"}\n",
        "print(names)\n",
        "\n",
        "# 專屬功能: add\n",
        "names.add(\"何\")\n",
        "print(names)\n",
        "names.add(\"王\")\n",
        "print(names)\n",
        "\n",
        "# 交集: &  我們共同有的東西\n",
        "names2 = {\"黃\", \"謝\", \"蔡\"}\n",
        "print(names & names2)\n",
        "\n",
        "# 聯集: | 所有的可能\n",
        "print(names | names2)\n",
        "\n",
        "# 減集: 我 - 交集\n",
        "print(names2 - names)\n",
        "print(names - names2)"
      ]
    },
    {
      "cell_type": "code",
      "source": [
        "# 各種空的\n",
        "a = []\n",
        "a = list()\n",
        "b = {}\n",
        "b = dict()\n",
        "print(type(b))\n",
        "c = set()"
      ],
      "metadata": {
        "colab": {
          "base_uri": "https://localhost:8080/"
        },
        "id": "MjrrwfhmrhXH",
        "outputId": "9c201f31-baa8-417c-e4cb-402887fb7252"
      },
      "execution_count": 10,
      "outputs": [
        {
          "output_type": "stream",
          "name": "stdout",
          "text": [
            "<class 'dict'>\n"
          ]
        }
      ]
    },
    {
      "cell_type": "code",
      "source": [
        "import random\n",
        "\n",
        "def generate_ticket(low=1, high=49, count=6):\n",
        "    lottery = set()\n",
        "    while True:\n",
        "        n = random.randint(low, high)\n",
        "        lottery.add(n)\n",
        "        if len(lottery) == count:\n",
        "            break\n",
        "    return lottery\n",
        "\n",
        "prize = generate_ticket()\n",
        "# 特別號: in\n",
        "special = None\n",
        "while True:\n",
        "    special = random.randint(1, 49)\n",
        "    if not special in prize:\n",
        "        break\n",
        "print(prize)\n",
        "print(special)"
      ],
      "metadata": {
        "colab": {
          "base_uri": "https://localhost:8080/"
        },
        "id": "mDsM5QQJrMsy",
        "outputId": "df52b125-2648-4a79-8de4-7566a55bf3bd"
      },
      "execution_count": 18,
      "outputs": [
        {
          "output_type": "stream",
          "name": "stdout",
          "text": [
            "{35, 36, 10, 46, 24, 27}\n",
            "15\n"
          ]
        }
      ]
    },
    {
      "cell_type": "code",
      "source": [],
      "metadata": {
        "id": "gvO0IEMSwPDV"
      },
      "execution_count": null,
      "outputs": []
    }
  ]
}