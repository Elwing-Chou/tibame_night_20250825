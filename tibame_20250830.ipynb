{
  "nbformat": 4,
  "nbformat_minor": 0,
  "metadata": {
    "colab": {
      "provenance": [],
      "authorship_tag": "ABX9TyMIwn4DjTaI3HEckqrVLVL0",
      "include_colab_link": true
    },
    "kernelspec": {
      "name": "python3",
      "display_name": "Python 3"
    },
    "language_info": {
      "name": "python"
    }
  },
  "cells": [
    {
      "cell_type": "markdown",
      "metadata": {
        "id": "view-in-github",
        "colab_type": "text"
      },
      "source": [
        "<a href=\"https://colab.research.google.com/github/Elwing-Chou/tibame_night_20250825/blob/main/tibame_20250830.ipynb\" target=\"_parent\"><img src=\"https://colab.research.google.com/assets/colab-badge.svg\" alt=\"Open In Colab\"/></a>"
      ]
    },
    {
      "cell_type": "code",
      "execution_count": null,
      "metadata": {
        "colab": {
          "base_uri": "https://localhost:8080/"
        },
        "id": "ISwnz7W5lP1j",
        "outputId": "d7b9f8b2-edf9-46bf-ab55-7d9cee87882b"
      },
      "outputs": [
        {
          "output_type": "execute_result",
          "data": {
            "text/plain": [
              "[-1, -1, -1, -1, -1, -1, -1, -1, -1, -1, -1, -1, -1, -1, -1]"
            ]
          },
          "metadata": {},
          "execution_count": 1
        }
      ],
      "source": [
        "[-1] * 15"
      ]
    },
    {
      "cell_type": "code",
      "source": [
        "l = []\n",
        "for i in range(15):\n",
        "    l.append(-1)\n",
        "l"
      ],
      "metadata": {
        "id": "vfZ8W7OzllKn"
      },
      "execution_count": null,
      "outputs": []
    },
    {
      "cell_type": "code",
      "source": [
        "# 縮寫\n",
        "l = [-1 for i in range(15)]\n",
        "l"
      ],
      "metadata": {
        "colab": {
          "base_uri": "https://localhost:8080/"
        },
        "id": "zDUnRR5Xl6Er",
        "outputId": "4c288566-192d-4dcf-e7dd-c2ca2e0cbc6b"
      },
      "execution_count": null,
      "outputs": [
        {
          "output_type": "execute_result",
          "data": {
            "text/plain": [
              "[-1, -1, -1, -1, -1, -1, -1, -1, -1, -1, -1, -1, -1, -1, -1]"
            ]
          },
          "metadata": {},
          "execution_count": 3
        }
      ]
    },
    {
      "cell_type": "code",
      "source": [
        "l = []\n",
        "for i in range(15):\n",
        "    l.append([-1] * 15)\n",
        "l"
      ],
      "metadata": {
        "id": "u9c4E762mzNG"
      },
      "execution_count": null,
      "outputs": []
    },
    {
      "cell_type": "code",
      "source": [
        "l = [[-1] * 15 for i in range(15)]\n",
        "l"
      ],
      "metadata": {
        "id": "kj7s4eignCuM"
      },
      "execution_count": null,
      "outputs": []
    },
    {
      "cell_type": "code",
      "source": [
        "a = 20\n",
        "\n",
        "def add(a, b):\n",
        "    c = a + b\n",
        "    return c\n",
        "\n",
        "add(5, 6)\n",
        "print(a)"
      ],
      "metadata": {
        "colab": {
          "base_uri": "https://localhost:8080/"
        },
        "id": "5KeHV6lyv5Z5",
        "outputId": "4f407a52-f033-4320-bf14-3ef7d1e73d64"
      },
      "execution_count": 8,
      "outputs": [
        {
          "output_type": "stream",
          "name": "stdout",
          "text": [
            "20\n"
          ]
        }
      ]
    },
    {
      "cell_type": "code",
      "source": [
        "for i in range(8, 15):\n",
        "    print(i)"
      ],
      "metadata": {
        "colab": {
          "base_uri": "https://localhost:8080/"
        },
        "id": "R38ExA2fyXtL",
        "outputId": "2f1e5484-95de-40c4-f9cf-5a3195676822"
      },
      "execution_count": 9,
      "outputs": [
        {
          "output_type": "stream",
          "name": "stdout",
          "text": [
            "8\n",
            "9\n",
            "10\n",
            "11\n",
            "12\n",
            "13\n",
            "14\n"
          ]
        }
      ]
    },
    {
      "cell_type": "code",
      "source": [
        "for i in range(15, -1, -1):\n",
        "    print(i)"
      ],
      "metadata": {
        "colab": {
          "base_uri": "https://localhost:8080/"
        },
        "id": "nD96mNfxz5iW",
        "outputId": "9e078d05-d543-4c6a-857c-4497985616b0"
      },
      "execution_count": 11,
      "outputs": [
        {
          "output_type": "stream",
          "name": "stdout",
          "text": [
            "15\n",
            "14\n",
            "13\n",
            "12\n",
            "11\n",
            "10\n",
            "9\n",
            "8\n",
            "7\n",
            "6\n",
            "5\n",
            "4\n",
            "3\n",
            "2\n",
            "1\n",
            "0\n"
          ]
        }
      ]
    },
    {
      "cell_type": "code",
      "source": [
        "# board_j = 4\n",
        "def check_winner(board, board_i, board_j):\n",
        "    # 橫的(往左延伸, 往右延伸, 看有幾個跟我一樣)\n",
        "    sample = board[board_i][board_j]\n",
        "    count = 1\n",
        "    # 5~14(15前一個)\n",
        "    for j in range(board_j+1, len(board)):\n",
        "        if board[board_i][j] == sample:\n",
        "            count = count + 1\n",
        "        else:\n",
        "            break\n",
        "    # 3~0(-1前一個)\n",
        "    for j in range(board_j-1, -1, -1):\n",
        "        if board[board_i][j] == sample:\n",
        "            count = count + 1\n",
        "        else:\n",
        "            break\n",
        "    if count >= 5:\n",
        "        return True\n",
        "\n",
        "    return False"
      ],
      "metadata": {
        "id": "1YwCimnuwiGa"
      },
      "execution_count": null,
      "outputs": []
    },
    {
      "cell_type": "code",
      "source": [
        "def check_winner(board, board_i, board_j):\n",
        "    # 橫的(往左延伸, 往右延伸, 看有幾個跟我一樣)\n",
        "    sample = board[board_i][board_j]\n",
        "    count = 1\n",
        "    # 往右移幾個\n",
        "    offset = 1\n",
        "    while True:\n",
        "        # 超過棋盤了\n",
        "        if not (0 <= board_j + offset < len(board)):\n",
        "            break\n",
        "        # 沒超過棋盤, 檢查是否相等\n",
        "        if board[board_i][board_j+offset] == sample:\n",
        "            count = count + 1\n",
        "        else:\n",
        "            break\n",
        "        offset = offset + 1\n",
        "\n",
        "    while True:\n",
        "        # 超過棋盤了\n",
        "        if not (0 <= board_j - offset < len(board)):\n",
        "            break\n",
        "        # 沒超過棋盤, 檢查是否相等\n",
        "        if board[board_i][board_j-offset] == sample:\n",
        "            count = count + 1\n",
        "        else:\n",
        "            break\n",
        "        offset = offset + 1\n",
        "    # 超過五個, 贏了\n",
        "    if count >= 5:\n",
        "        return True\n",
        "\n",
        "    return False"
      ],
      "metadata": {
        "id": "9QN_lVBn4xA7"
      },
      "execution_count": null,
      "outputs": []
    }
  ]
}