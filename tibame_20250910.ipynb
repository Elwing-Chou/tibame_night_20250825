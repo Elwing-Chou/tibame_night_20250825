{
  "nbformat": 4,
  "nbformat_minor": 0,
  "metadata": {
    "colab": {
      "provenance": [],
      "authorship_tag": "ABX9TyPb2y1bSvlE9VSmCGnPup/R",
      "include_colab_link": true
    },
    "kernelspec": {
      "name": "python3",
      "display_name": "Python 3"
    },
    "language_info": {
      "name": "python"
    }
  },
  "cells": [
    {
      "cell_type": "markdown",
      "metadata": {
        "id": "view-in-github",
        "colab_type": "text"
      },
      "source": [
        "<a href=\"https://colab.research.google.com/github/Elwing-Chou/tibame_night_20250825/blob/main/tibame_20250910.ipynb\" target=\"_parent\"><img src=\"https://colab.research.google.com/assets/colab-badge.svg\" alt=\"Open In Colab\"/></a>"
      ]
    },
    {
      "cell_type": "markdown",
      "source": [
        "\n",
        "\n",
        "```\n",
        "HTML格式:\n",
        "\n",
        "<a href=\"網址\" class=\"分類1 分類2...\">\n",
        "    AIGRE DOUCE\n",
        "</a>\n",
        "\n",
        "1. 名字(a/img/video) 2. 屬性(href/src) 3. 內容\n",
        "\n",
        "某些為了排版而生的HTML屬性\n",
        "class=\"分類1 分類2 分類3\"\n",
        "id=\"身分證\"\n",
        "\n",
        "```\n",
        "\n"
      ],
      "metadata": {
        "id": "Kpa0ums7T5h9"
      }
    },
    {
      "cell_type": "code",
      "execution_count": 12,
      "metadata": {
        "colab": {
          "base_uri": "https://localhost:8080/"
        },
        "id": "h4BlrNSkT3a9",
        "outputId": "3a919507-a29e-4f1e-860c-ea7e99920eaf"
      },
      "outputs": [
        {
          "output_type": "stream",
          "name": "stdout",
          "text": [
            "https://tabelog.com/tw/tokyo/A1304/A130401/13184186/\n",
            "Bon.nu\n"
          ]
        }
      ],
      "source": [
        "import urllib.request as req\n",
        "# beautifulsoup4\n",
        "import bs4 as bs\n",
        "\n",
        "url = \"https://tabelog.com/tw/tokyo/rstLst/sweets/?SrtT=rt\"\n",
        "resp = req.urlopen(url)\n",
        "content = resp.read()\n",
        "# 型態轉換: json.loads\n",
        "# 區塊型態\n",
        "html = bs.BeautifulSoup(content)\n",
        "# 區塊.find  區塊.find_all\n",
        "# (html名稱, {篩選條件})\n",
        "target = html.find(\"a\", {\"class\":\"list-rst__rst-name-target\"})\n",
        "# 萃取:\n",
        "# 1. 特殊屬性: 區塊[\"href\"]\n",
        "# 2. 顯示內容: 區塊.get_text()\n",
        "print(target[\"href\"])\n",
        "print(target.get_text())"
      ]
    }
  ]
}