{
  "nbformat": 4,
  "nbformat_minor": 0,
  "metadata": {
    "colab": {
      "provenance": [],
      "authorship_tag": "ABX9TyPhEJc2uQjQBRpW/EGC/u/u",
      "include_colab_link": true
    },
    "kernelspec": {
      "name": "python3",
      "display_name": "Python 3"
    },
    "language_info": {
      "name": "python"
    }
  },
  "cells": [
    {
      "cell_type": "markdown",
      "metadata": {
        "id": "view-in-github",
        "colab_type": "text"
      },
      "source": [
        "<a href=\"https://colab.research.google.com/github/Elwing-Chou/tibame_night_20250825/blob/main/tibame_20250910.ipynb\" target=\"_parent\"><img src=\"https://colab.research.google.com/assets/colab-badge.svg\" alt=\"Open In Colab\"/></a>"
      ]
    },
    {
      "cell_type": "markdown",
      "source": [
        "\n",
        "\n",
        "```\n",
        "HTML格式:\n",
        "\n",
        "<a href=\"網址\" class=\"分類1 分類2...\">\n",
        "    AIGRE DOUCE\n",
        "</a>\n",
        "\n",
        "1. 名字(a/img/video) 2. 屬性(href/src) 3. 內容\n",
        "\n",
        "某些為了排版而生的HTML屬性\n",
        "class=\"分類1 分類2 分類3\"\n",
        "id=\"身分證\"\n",
        "\n",
        "```\n",
        "\n"
      ],
      "metadata": {
        "id": "Kpa0ums7T5h9"
      }
    },
    {
      "cell_type": "code",
      "execution_count": 12,
      "metadata": {
        "colab": {
          "base_uri": "https://localhost:8080/"
        },
        "id": "h4BlrNSkT3a9",
        "outputId": "3a919507-a29e-4f1e-860c-ea7e99920eaf"
      },
      "outputs": [
        {
          "output_type": "stream",
          "name": "stdout",
          "text": [
            "https://tabelog.com/tw/tokyo/A1304/A130401/13184186/\n",
            "Bon.nu\n"
          ]
        }
      ],
      "source": [
        "import urllib.request as req\n",
        "# beautifulsoup4\n",
        "import bs4 as bs\n",
        "\n",
        "url = \"https://tabelog.com/tw/tokyo/rstLst/sweets/?SrtT=rt\"\n",
        "resp = req.urlopen(url)\n",
        "content = resp.read()\n",
        "# 型態轉換: json.loads\n",
        "# 區塊型態\n",
        "html = bs.BeautifulSoup(content)\n",
        "# 區塊.find  區塊.find_all\n",
        "# (html名稱, {篩選條件})\n",
        "target = html.find(\"a\", {\"class\":\"list-rst__rst-name-target\"})\n",
        "# 萃取:\n",
        "# 1. 特殊屬性: 區塊[\"href\"]\n",
        "# 2. 顯示內容: 區塊.get_text()\n",
        "print(target[\"href\"])\n",
        "print(target.get_text())"
      ]
    },
    {
      "cell_type": "code",
      "source": [
        "import urllib.request as req\n",
        "import bs4 as bs\n",
        "\n",
        "url = \"https://tabelog.com/tw/tokyo/rstLst/sweets/?SrtT=rt\"\n",
        "resp = req.urlopen(url)\n",
        "content = resp.read()\n",
        "html = bs.BeautifulSoup(content)\n",
        "\n",
        "# [區塊, 區塊, 區塊]\n",
        "rs = html.find_all(\"div\", {\"class\":\"list-rst__body\"})\n",
        "for r in rs:\n",
        "    en = r.find(\"a\", {\"class\":\"list-rst__rst-name-target\"})\n",
        "\n",
        "    en_text = en.get_text()\n",
        "    en_href = en[\"href\"]\n",
        "\n",
        "    print(en_text)\n",
        "    print(en_href)\n",
        "    print(\"-\" * 30)"
      ],
      "metadata": {
        "colab": {
          "base_uri": "https://localhost:8080/"
        },
        "id": "KUHDJeJccgkX",
        "outputId": "f9df7086-d662-48e2-9f98-bc2987d72d78"
      },
      "execution_count": 15,
      "outputs": [
        {
          "output_type": "stream",
          "name": "stdout",
          "text": [
            "Bon.nu\n",
            "https://tabelog.com/tw/tokyo/A1304/A130401/13184186/\n",
            "------------------------------\n",
            "AIGRE DOUCE\n",
            "https://tabelog.com/tw/tokyo/A1305/A130502/13005641/\n",
            "------------------------------\n",
            "a tes souhaits!\n",
            "https://tabelog.com/tw/tokyo/A1320/A132001/13005853/\n",
            "------------------------------\n",
            "L'Atelier à Ma Façon\n",
            "https://tabelog.com/tw/tokyo/A1317/A131715/13242556/\n",
            "------------------------------\n",
            "Patisserie Ryoko\n",
            "https://tabelog.com/tw/tokyo/A1316/A131603/13137010/\n",
            "------------------------------\n",
            "GELATERIA ACQUOLINA\n",
            "https://tabelog.com/tw/tokyo/A1317/A131701/13141364/\n",
            "------------------------------\n",
            "patisserie Paris S'eveille\n",
            "https://tabelog.com/tw/tokyo/A1317/A131703/13005198/\n",
            "------------------------------\n",
            "Frederic Cassel Ginza Mitsukoshi Ten\n",
            "https://tabelog.com/tw/tokyo/A1301/A130101/13116839/\n",
            "------------------------------\n",
            "Avranches Guesnay\n",
            "https://tabelog.com/tw/tokyo/A1310/A131004/13186450/\n",
            "------------------------------\n",
            "Ryoura\n",
            "https://tabelog.com/tw/tokyo/A1317/A131707/13188208/\n",
            "------------------------------\n",
            "Ikkou An\n",
            "https://tabelog.com/tw/tokyo/A1323/A132302/13005076/\n",
            "------------------------------\n",
            "Au Bon Vieux Temps Oyamadai Ten\n",
            "https://tabelog.com/tw/tokyo/A1317/A131715/13181654/\n",
            "------------------------------\n",
            "Nihonbashi Nagato\n",
            "https://tabelog.com/tw/tokyo/A1302/A130202/13011481/\n",
            "------------------------------\n",
            "Okashiya Ucchi\n",
            "https://tabelog.com/tw/tokyo/A1309/A130901/13238644/\n",
            "------------------------------\n",
            "Boulangerie Sudo\n",
            "https://tabelog.com/tw/tokyo/A1317/A131709/13098861/\n",
            "------------------------------\n",
            "Patisserie Yu Sasage\n",
            "https://tabelog.com/tw/tokyo/A1318/A131809/13155662/\n",
            "------------------------------\n",
            "patisserie K.ViNCENT\n",
            "https://tabelog.com/tw/tokyo/A1309/A130905/13035194/\n",
            "------------------------------\n",
            "LESS by Gabriele Riva & Kanako Sakakura\n",
            "https://tabelog.com/tw/tokyo/A1303/A130302/13274859/\n",
            "------------------------------\n",
            "CHOCOLATIER PALET D’OR Tokyo\n",
            "https://tabelog.com/tw/tokyo/A1302/A130201/13038473/\n",
            "------------------------------\n",
            "ASTERISQUE\n",
            "https://tabelog.com/tw/tokyo/A1318/A131811/13140735/\n",
            "------------------------------\n"
          ]
        }
      ]
    }
  ]
}