{
  "nbformat": 4,
  "nbformat_minor": 0,
  "metadata": {
    "colab": {
      "provenance": [],
      "authorship_tag": "ABX9TyORCwPQj4okCLzomC4CrHcF",
      "include_colab_link": true
    },
    "kernelspec": {
      "name": "python3",
      "display_name": "Python 3"
    },
    "language_info": {
      "name": "python"
    }
  },
  "cells": [
    {
      "cell_type": "markdown",
      "metadata": {
        "id": "view-in-github",
        "colab_type": "text"
      },
      "source": [
        "<a href=\"https://colab.research.google.com/github/Elwing-Chou/tibame_night_20250825/blob/main/tibame_20250910.ipynb\" target=\"_parent\"><img src=\"https://colab.research.google.com/assets/colab-badge.svg\" alt=\"Open In Colab\"/></a>"
      ]
    },
    {
      "cell_type": "markdown",
      "source": [
        "\n",
        "\n",
        "```\n",
        "HTML格式:\n",
        "\n",
        "<a href=\"網址\" class=\"分類1 分類2...\">\n",
        "    AIGRE DOUCE\n",
        "</a>\n",
        "\n",
        "1. 名字(a/img/video) 2. 屬性(href/src) 3. 內容\n",
        "\n",
        "某些為了排版而生的HTML屬性\n",
        "class=\"分類1 分類2 分類3\"\n",
        "id=\"身分證\"\n",
        "\n",
        "```\n",
        "\n"
      ],
      "metadata": {
        "id": "Kpa0ums7T5h9"
      }
    },
    {
      "cell_type": "code",
      "execution_count": 12,
      "metadata": {
        "colab": {
          "base_uri": "https://localhost:8080/"
        },
        "id": "h4BlrNSkT3a9",
        "outputId": "3a919507-a29e-4f1e-860c-ea7e99920eaf"
      },
      "outputs": [
        {
          "output_type": "stream",
          "name": "stdout",
          "text": [
            "https://tabelog.com/tw/tokyo/A1304/A130401/13184186/\n",
            "Bon.nu\n"
          ]
        }
      ],
      "source": [
        "import urllib.request as req\n",
        "# beautifulsoup4\n",
        "import bs4 as bs\n",
        "\n",
        "url = \"https://tabelog.com/tw/tokyo/rstLst/sweets/?SrtT=rt\"\n",
        "resp = req.urlopen(url)\n",
        "content = resp.read()\n",
        "# 型態轉換: json.loads\n",
        "# 區塊型態\n",
        "html = bs.BeautifulSoup(content)\n",
        "# 區塊.find  區塊.find_all\n",
        "# (html名稱, {篩選條件})\n",
        "target = html.find(\"a\", {\"class\":\"list-rst__rst-name-target\"})\n",
        "# 萃取:\n",
        "# 1. 特殊屬性: 區塊[\"href\"]\n",
        "# 2. 顯示內容: 區塊.get_text()\n",
        "print(target[\"href\"])\n",
        "print(target.get_text())"
      ]
    },
    {
      "cell_type": "code",
      "source": [
        "import urllib.request as req\n",
        "import bs4 as bs\n",
        "\n",
        "url = \"https://tabelog.com/tw/tokyo/rstLst/sweets/1/?SrtT=rt\"\n",
        "resp = req.urlopen(url)\n",
        "content = resp.read()\n",
        "html = bs.BeautifulSoup(content)\n",
        "\n",
        "# [區塊, 區塊, 區塊]\n",
        "rs = html.find_all(\"div\", {\"class\":\"list-rst__body\"})\n",
        "for r in rs:\n",
        "    # 地點類型/評分/晚餐價格/午餐價格/定休日\n",
        "    en = r.find(\"a\", {\"class\":\"list-rst__rst-name-target\"})\n",
        "    area_genre = r.find(\"div\", {\"class\":\"list-rst__area-genre\"})\n",
        "    rating = r.find(\"span\", {\"class\":\"c-rating__val\"})\n",
        "    prices = r.find_all(\"span\", {\"class\":\"c-rating-v3__val\"})\n",
        "    dinner_price = prices[0]\n",
        "    lunch_price = prices[1]\n",
        "    holiday = r.find(\"span\", {\"class\":\"list-rst__holiday-text\"})\n",
        "\n",
        "    en_text = en.get_text().strip()\n",
        "    en_href = en[\"href\"]\n",
        "    area_genre_text = area_genre.get_text().strip()\n",
        "    rating_text = rating.get_text().strip()\n",
        "    dinner_price_text = dinner_price.get_text().strip()\n",
        "    lunch_price_text = lunch_price.get_text().strip()\n",
        "    holiday_text = holiday.get_text().strip()\n",
        "\n",
        "    print(en_text)\n",
        "    print(en_href)\n",
        "    print(area_genre_text)\n",
        "    print(rating_text)\n",
        "    print(dinner_price_text)\n",
        "    print(lunch_price_text)\n",
        "    print(holiday_text)\n",
        "    print(\"-\" * 30)"
      ],
      "metadata": {
        "colab": {
          "base_uri": "https://localhost:8080/"
        },
        "id": "KUHDJeJccgkX",
        "outputId": "900860ff-a57b-4780-e50e-c5dc6a17c553"
      },
      "execution_count": 29,
      "outputs": [
        {
          "output_type": "stream",
          "name": "stdout",
          "text": [
            "Bon.nu\n",
            "https://tabelog.com/tw/tokyo/A1304/A130401/13184186/\n",
            "參宮橋車站 / 法式料理, 蛋糕\n",
            "4.28\n",
            "JPY 50,000 - JPY 59,999\n",
            "JPY 50,000 - JPY 59,999\n",
            "-\n",
            "------------------------------\n",
            "AIGRE DOUCE\n",
            "https://tabelog.com/tw/tokyo/A1305/A130502/13005641/\n",
            "目白車站 / 蛋糕, 馬卡龍\n",
            "4.02\n",
            "JPY 1,000 - JPY 1,999\n",
            "JPY 1,000 - JPY 1,999\n",
            "星期一, 星期二\n",
            "------------------------------\n",
            "a tes souhaits!\n",
            "https://tabelog.com/tw/tokyo/A1320/A132001/13005853/\n",
            "西荻窪車站 / 蛋糕, 甜點\n",
            "4.00\n",
            "- JPY 999\n",
            "- JPY 999\n",
            "星期一, 星期二\n",
            "------------------------------\n",
            "L'Atelier à Ma Façon\n",
            "https://tabelog.com/tw/tokyo/A1317/A131715/13242556/\n",
            "上野毛車站 / 甜點, 咖啡店\n",
            "3.99\n",
            "JPY 4,000 - JPY 4,999\n",
            "JPY 4,000 - JPY 4,999\n",
            "-\n",
            "------------------------------\n",
            "Patisserie Ryoko\n",
            "https://tabelog.com/tw/tokyo/A1316/A131603/13137010/\n",
            "高輪台車站 / 蛋糕, 泡芙, 西式甜點\n",
            "3.98\n",
            "-\n",
            "- JPY 999\n",
            "星期一, 星期二, 星期三, 星期四\n",
            "------------------------------\n",
            "GELATERIA ACQUOLINA\n",
            "https://tabelog.com/tw/tokyo/A1317/A131701/13141364/\n",
            "祐天寺車站 / 意式冰淇淋/冰淇淋, 霜淇淋\n",
            "3.97\n",
            "-\n",
            "- JPY 999\n",
            "星期一, 星期二\n",
            "------------------------------\n",
            "patisserie Paris S'eveille\n",
            "https://tabelog.com/tw/tokyo/A1317/A131703/13005198/\n",
            "自由丘車站 / 蛋糕, 咖啡店, 麵包\n",
            "3.96\n",
            "JPY 1,000 - JPY 1,999\n",
            "JPY 1,000 - JPY 1,999\n",
            "-\n",
            "------------------------------\n",
            "Frederic Cassel Ginza Mitsukoshi Ten\n",
            "https://tabelog.com/tw/tokyo/A1301/A130101/13116839/\n",
            "銀座車站 / 蛋糕, 甜點, 巧克力\n",
            "3.96\n",
            "-\n",
            "JPY 2,000 - JPY 2,999\n",
            "-\n",
            "------------------------------\n",
            "Avranches Guesnay\n",
            "https://tabelog.com/tw/tokyo/A1310/A131004/13186450/\n",
            "春日車站 / 蛋糕, 巧克力\n",
            "3.95\n",
            "JPY 1,000 - JPY 1,999\n",
            "JPY 1,000 - JPY 1,999\n",
            "星期一, 星期二\n",
            "------------------------------\n",
            "Ryoura\n",
            "https://tabelog.com/tw/tokyo/A1317/A131707/13188208/\n",
            "用賀車站 / 蛋糕, 西式甜點\n",
            "3.95\n",
            "JPY 3,000 - JPY 3,999\n",
            "-\n",
            "星期二, 星期三\n",
            "------------------------------\n",
            "Ikkou An\n",
            "https://tabelog.com/tw/tokyo/A1323/A132302/13005076/\n",
            "茗荷谷車站 / 日式點心\n",
            "3.95\n",
            "-\n",
            "- JPY 999\n",
            "星期一, 星期二, 星期日\n",
            "------------------------------\n",
            "Au Bon Vieux Temps Oyamadai Ten\n",
            "https://tabelog.com/tw/tokyo/A1317/A131715/13181654/\n",
            "尾山台車站 / 蛋糕, 小菜, 咖啡店\n",
            "3.94\n",
            "JPY 1,000 - JPY 1,999\n",
            "JPY 1,000 - JPY 1,999\n",
            "星期二, 星期三\n",
            "------------------------------\n",
            "Nihonbashi Nagato\n",
            "https://tabelog.com/tw/tokyo/A1302/A130202/13011481/\n",
            "日本橋車站 / 日式點心\n",
            "3.93\n",
            "JPY 1,000 - JPY 1,999\n",
            "JPY 1,000 - JPY 1,999\n",
            "星期日, 節假日\n",
            "------------------------------\n",
            "Okashiya Ucchi\n",
            "https://tabelog.com/tw/tokyo/A1309/A130901/13238644/\n",
            "北參道車站 / 蛋糕, 西式甜點\n",
            "3.93\n",
            "-\n",
            "JPY 5,000 - JPY 5,999\n",
            "-\n",
            "------------------------------\n",
            "Boulangerie Sudo\n",
            "https://tabelog.com/tw/tokyo/A1317/A131709/13098861/\n",
            "松陰神社前車站 / 麵包, 咖啡店, 甜點\n",
            "3.92\n",
            "- JPY 999\n",
            "- JPY 999\n",
            "星期一, 星期二, 星期三, 星期四\n",
            "------------------------------\n",
            "Patisserie Yu Sasage\n",
            "https://tabelog.com/tw/tokyo/A1318/A131809/13155662/\n",
            "千歲烏山車站 / 蛋糕, 麵包\n",
            "3.92\n",
            "-\n",
            "- JPY 999\n",
            "星期二, 星期三\n",
            "------------------------------\n",
            "patisserie K.ViNCENT\n",
            "https://tabelog.com/tw/tokyo/A1309/A130905/13035194/\n",
            "飯田橋車站 / 蛋糕, 巧克力, 西式甜點\n",
            "3.92\n",
            "JPY 10,000 - JPY 14,999\n",
            "-\n",
            "-\n",
            "------------------------------\n",
            "LESS by Gabriele Riva & Kanako Sakakura\n",
            "https://tabelog.com/tw/tokyo/A1303/A130302/13274859/\n",
            "惠比壽車站 / 蛋糕, 巧克力\n",
            "3.92\n",
            "-\n",
            "JPY 2,000 - JPY 2,999\n",
            "星期三\n",
            "------------------------------\n",
            "CHOCOLATIER PALET D’OR Tokyo\n",
            "https://tabelog.com/tw/tokyo/A1302/A130201/13038473/\n",
            "二重橋前車站 / 巧克力, 咖啡店, 蛋糕\n",
            "3.91\n",
            "JPY 2,000 - JPY 2,999\n",
            "JPY 2,000 - JPY 2,999\n",
            "-\n",
            "------------------------------\n",
            "ASTERISQUE\n",
            "https://tabelog.com/tw/tokyo/A1318/A131811/13140735/\n",
            "代代木上原車站 / 蛋糕\n",
            "3.91\n",
            "- JPY 999\n",
            "- JPY 999\n",
            "星期一, 星期二\n",
            "------------------------------\n"
          ]
        }
      ]
    },
    {
      "cell_type": "markdown",
      "source": [
        "\n",
        "\n",
        "```\n",
        "https://tabelog.com/tw/tokyo/rstLst/sweets/?SrtT=rt\n",
        "https://tabelog.com/tw/tokyo/rstLst/sweets/2/?SrtT=rt\n",
        "https://tabelog.com/tw/tokyo/rstLst/sweets/1/?SrtT=rt\n",
        "```\n",
        "\n"
      ],
      "metadata": {
        "id": "uDa61okQrIsp"
      }
    },
    {
      "cell_type": "code",
      "source": [
        "# 字串的專屬功能: replace/split/join/strip\n",
        "s = \"    \\n \\t    abc   def     \\n \\t  \"\n",
        "s.strip()\n",
        "s.lstrip()\n",
        "s.rstrip()"
      ],
      "metadata": {
        "colab": {
          "base_uri": "https://localhost:8080/",
          "height": 36
        },
        "id": "nTD8K56fo66d",
        "outputId": "22afd7f0-bada-4bb4-8abb-623db2afcff7"
      },
      "execution_count": 24,
      "outputs": [
        {
          "output_type": "execute_result",
          "data": {
            "text/plain": [
              "'    \\n \\t    abc   def'"
            ],
            "application/vnd.google.colaboratory.intrinsic+json": {
              "type": "string"
            }
          },
          "metadata": {},
          "execution_count": 24
        }
      ]
    }
  ]
}