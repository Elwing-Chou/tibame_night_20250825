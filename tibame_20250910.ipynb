{
  "nbformat": 4,
  "nbformat_minor": 0,
  "metadata": {
    "colab": {
      "provenance": [],
      "authorship_tag": "ABX9TyMC9zcHDpwa5FXhxYlhGjKD",
      "include_colab_link": true
    },
    "kernelspec": {
      "name": "python3",
      "display_name": "Python 3"
    },
    "language_info": {
      "name": "python"
    }
  },
  "cells": [
    {
      "cell_type": "markdown",
      "metadata": {
        "id": "view-in-github",
        "colab_type": "text"
      },
      "source": [
        "<a href=\"https://colab.research.google.com/github/Elwing-Chou/tibame_night_20250825/blob/main/tibame_20250910.ipynb\" target=\"_parent\"><img src=\"https://colab.research.google.com/assets/colab-badge.svg\" alt=\"Open In Colab\"/></a>"
      ]
    },
    {
      "cell_type": "markdown",
      "source": [
        "\n",
        "\n",
        "```\n",
        "HTML格式:\n",
        "\n",
        "<a href=\"網址\" class=\"分類1 分類2...\">\n",
        "    AIGRE DOUCE\n",
        "</a>\n",
        "\n",
        "1. 名字(a/img/video) 2. 屬性(href/src) 3. 內容\n",
        "\n",
        "某些為了排版而生的HTML屬性\n",
        "class=\"分類1 分類2 分類3\"\n",
        "id=\"身分證\"\n",
        "\n",
        "```\n",
        "\n"
      ],
      "metadata": {
        "id": "Kpa0ums7T5h9"
      }
    },
    {
      "cell_type": "code",
      "execution_count": 12,
      "metadata": {
        "colab": {
          "base_uri": "https://localhost:8080/"
        },
        "id": "h4BlrNSkT3a9",
        "outputId": "3a919507-a29e-4f1e-860c-ea7e99920eaf"
      },
      "outputs": [
        {
          "output_type": "stream",
          "name": "stdout",
          "text": [
            "https://tabelog.com/tw/tokyo/A1304/A130401/13184186/\n",
            "Bon.nu\n"
          ]
        }
      ],
      "source": [
        "import urllib.request as req\n",
        "# beautifulsoup4\n",
        "import bs4 as bs\n",
        "\n",
        "url = \"https://tabelog.com/tw/tokyo/rstLst/sweets/?SrtT=rt\"\n",
        "resp = req.urlopen(url)\n",
        "content = resp.read()\n",
        "# 型態轉換: json.loads\n",
        "# 區塊型態\n",
        "html = bs.BeautifulSoup(content)\n",
        "# 區塊.find  區塊.find_all\n",
        "# (html名稱, {篩選條件})\n",
        "target = html.find(\"a\", {\"class\":\"list-rst__rst-name-target\"})\n",
        "# 萃取:\n",
        "# 1. 特殊屬性: 區塊[\"href\"]\n",
        "# 2. 顯示內容: 區塊.get_text()\n",
        "print(target[\"href\"])\n",
        "print(target.get_text())"
      ]
    },
    {
      "cell_type": "code",
      "source": [
        "import urllib.request as req\n",
        "import bs4 as bs\n",
        "\n",
        "url = \"https://tabelog.com/tw/tokyo/rstLst/sweets/1/?SrtT=rt\"\n",
        "resp = req.urlopen(url)\n",
        "content = resp.read()\n",
        "html = bs.BeautifulSoup(content)\n",
        "\n",
        "# [區塊, 區塊, 區塊]\n",
        "rs = html.find_all(\"div\", {\"class\":\"list-rst__body\"})\n",
        "for r in rs:\n",
        "    # 地點類型/評分/晚餐價格/午餐價格/定休日\n",
        "    en = r.find(\"a\", {\"class\":\"list-rst__rst-name-target\"})\n",
        "    area_genre = r.find(\"div\", {\"class\":\"list-rst__area-genre\"})\n",
        "    rating = r.find(\"span\", {\"class\":\"c-rating__val\"})\n",
        "    prices = r.find_all(\"span\", {\"class\":\"c-rating-v3__val\"})\n",
        "    dinner_price = prices[0]\n",
        "    lunch_price = prices[1]\n",
        "    holiday = r.find(\"span\", {\"class\":\"list-rst__holiday-text\"})\n",
        "\n",
        "    en_text = en.get_text().strip()\n",
        "    en_href = en[\"href\"]\n",
        "    area_genre_text = area_genre.get_text().strip()\n",
        "    rating_text = rating.get_text().strip()\n",
        "    dinner_price_text = dinner_price.get_text().strip()\n",
        "    lunch_price_text = lunch_price.get_text().strip()\n",
        "    holiday_text = holiday.get_text().strip()\n",
        "\n",
        "    print(en_text)\n",
        "    print(en_href)\n",
        "    print(area_genre_text)\n",
        "    print(rating_text)\n",
        "    print(dinner_price_text)\n",
        "    print(lunch_price_text)\n",
        "    print(holiday_text)\n",
        "    print(\"-\" * 30)"
      ],
      "metadata": {
        "id": "KUHDJeJccgkX"
      },
      "execution_count": null,
      "outputs": []
    },
    {
      "cell_type": "markdown",
      "source": [
        "\n",
        "\n",
        "```\n",
        "這樣的格式:\n",
        "[danmu{}, danmu{}]\n",
        "\n",
        "-> DataFrame -> to_xxx\n",
        "\n",
        "```\n",
        "\n"
      ],
      "metadata": {
        "id": "b6DeNTh_yK44"
      }
    },
    {
      "cell_type": "code",
      "source": [
        "import urllib.request as req\n",
        "import bs4 as bs\n",
        "# Step 0.\n",
        "import pandas as pd\n",
        "\n",
        "# Step 1. 準備空的list\n",
        "table = []\n",
        "\n",
        "for i in range(20):\n",
        "    page = i + 1\n",
        "    url = \"https://tabelog.com/tw/tokyo/rstLst/sweets/\" + str(page) + \"/?SrtT=rt\"\n",
        "    print(\"頁數:\", url)\n",
        "    resp = req.urlopen(url)\n",
        "    content = resp.read()\n",
        "    html = bs.BeautifulSoup(content)\n",
        "\n",
        "    rs = html.find_all(\"div\", {\"class\":\"list-rst__body\"})\n",
        "    for r in rs:\n",
        "        en = r.find(\"a\", {\"class\":\"list-rst__rst-name-target\"})\n",
        "        area_genre = r.find(\"div\", {\"class\":\"list-rst__area-genre\"})\n",
        "        rating = r.find(\"span\", {\"class\":\"c-rating__val\"})\n",
        "        prices = r.find_all(\"span\", {\"class\":\"c-rating-v3__val\"})\n",
        "        dinner_price = prices[0]\n",
        "        lunch_price = prices[1]\n",
        "        holiday = r.find(\"span\", {\"class\":\"list-rst__holiday-text\"})\n",
        "\n",
        "        en_text = en.get_text().strip()\n",
        "        en_href = en[\"href\"]\n",
        "        area_genre_text = area_genre.get_text().strip()\n",
        "        rating_text = rating.get_text().strip()\n",
        "        dinner_price_text = dinner_price.get_text().strip()\n",
        "        lunch_price_text = lunch_price.get_text().strip()\n",
        "        holiday_text = holiday.get_text().strip()\n",
        "\n",
        "        # Step 2. 一筆資料就是一個字典\n",
        "        row = {\n",
        "            \"店名\":en_text,\n",
        "            \"連結\":en_href,\n",
        "            \"地點_種類\":area_genre_text,\n",
        "            \"評分\":rating_text,\n",
        "            \"晚餐價格\":dinner_price_text,\n",
        "            \"午餐價格\":lunch_price_text,\n",
        "            \"定休日\":holiday_text,\n",
        "        }\n",
        "        table.append(row)\n",
        "\n",
        "# Step 3. 轉換存檔\n",
        "df = pd.DataFrame(table)\n",
        "df.to_csv(\"tabelog.csv\", encoding=\"utf-8\")\n",
        "df"
      ],
      "metadata": {
        "id": "MpXVb2_xv79Z"
      },
      "execution_count": null,
      "outputs": []
    },
    {
      "cell_type": "markdown",
      "source": [
        "\n",
        "\n",
        "```\n",
        "https://tabelog.com/tw/tokyo/rstLst/sweets/?SrtT=rt\n",
        "https://tabelog.com/tw/tokyo/rstLst/sweets/2/?SrtT=rt\n",
        "https://tabelog.com/tw/tokyo/rstLst/sweets/1/?SrtT=rt\n",
        "```\n",
        "\n"
      ],
      "metadata": {
        "id": "uDa61okQrIsp"
      }
    },
    {
      "cell_type": "code",
      "source": [
        "# 字串的專屬功能: replace/split/join/strip\n",
        "s = \"    \\n \\t    abc   def     \\n \\t  \"\n",
        "s.strip()\n",
        "s.lstrip()\n",
        "s.rstrip()"
      ],
      "metadata": {
        "colab": {
          "base_uri": "https://localhost:8080/",
          "height": 36
        },
        "id": "nTD8K56fo66d",
        "outputId": "22afd7f0-bada-4bb4-8abb-623db2afcff7"
      },
      "execution_count": 24,
      "outputs": [
        {
          "output_type": "execute_result",
          "data": {
            "text/plain": [
              "'    \\n \\t    abc   def'"
            ],
            "application/vnd.google.colaboratory.intrinsic+json": {
              "type": "string"
            }
          },
          "metadata": {},
          "execution_count": 24
        }
      ]
    }
  ]
}