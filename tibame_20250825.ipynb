{
  "nbformat": 4,
  "nbformat_minor": 0,
  "metadata": {
    "colab": {
      "provenance": [],
      "authorship_tag": "ABX9TyMdO26OXIuXc0A7o/Sy3RJw",
      "include_colab_link": true
    },
    "kernelspec": {
      "name": "python3",
      "display_name": "Python 3"
    },
    "language_info": {
      "name": "python"
    }
  },
  "cells": [
    {
      "cell_type": "markdown",
      "metadata": {
        "id": "view-in-github",
        "colab_type": "text"
      },
      "source": [
        "<a href=\"https://colab.research.google.com/github/Elwing-Chou/tibame_night_20250825/blob/main/tibame_20250825.ipynb\" target=\"_parent\"><img src=\"https://colab.research.google.com/assets/colab-badge.svg\" alt=\"Open In Colab\"/></a>"
      ]
    },
    {
      "cell_type": "markdown",
      "source": [
        "\n",
        "\n",
        "```\n",
        "1. 標準python: .py檔案, 第一行到最後一行\n",
        "2. colab: 線上版本jupyter函式庫, .ipynb,\n",
        "它容許你分段去執行, 每一個段落可以看到結果\n",
        "```\n",
        "\n"
      ],
      "metadata": {
        "id": "igIcxn0g8Fdg"
      }
    },
    {
      "cell_type": "code",
      "execution_count": null,
      "metadata": {
        "id": "7ZVb8gts7wSd"
      },
      "outputs": [],
      "source": [
        "i = 0\n",
        "while i < 10:\n",
        "    print(i)\n",
        "    i = i + 1"
      ]
    },
    {
      "cell_type": "code",
      "source": [
        "for i in range(10):\n",
        "    print(i)"
      ],
      "metadata": {
        "id": "0bBfDMvuQAxc"
      },
      "execution_count": null,
      "outputs": []
    },
    {
      "cell_type": "code",
      "source": [
        "x, y = [20, 30]\n",
        "print(x, y)"
      ],
      "metadata": {
        "colab": {
          "base_uri": "https://localhost:8080/"
        },
        "id": "FTbUBgo8X58Y",
        "outputId": "5e772388-2839-4c78-b99b-70efaf816b48"
      },
      "execution_count": 5,
      "outputs": [
        {
          "output_type": "stream",
          "name": "stdout",
          "text": [
            "20 30\n"
          ]
        }
      ]
    },
    {
      "cell_type": "code",
      "source": [
        "# 二維list\n",
        "x = [[5, 6], [7, 8]]\n",
        "x[1][0]\n",
        "x = [[[5, 6], [7, 8]],\n",
        "     [[9, 10], [11, 12]]]\n",
        "x[1][0][0]\n",
        "x = [\n",
        "    [5, 6],\n",
        "    [7, 8]\n",
        "]\n",
        "x[0][1]"
      ],
      "metadata": {
        "colab": {
          "base_uri": "https://localhost:8080/"
        },
        "id": "leCkOQp4ei0Y",
        "outputId": "44fb1397-9904-4cf6-95af-5f71b57f3392"
      },
      "execution_count": 12,
      "outputs": [
        {
          "output_type": "execute_result",
          "data": {
            "text/plain": [
              "6"
            ]
          },
          "metadata": {},
          "execution_count": 12
        }
      ]
    }
  ]
}