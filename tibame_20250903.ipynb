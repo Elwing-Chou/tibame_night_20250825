{
  "nbformat": 4,
  "nbformat_minor": 0,
  "metadata": {
    "colab": {
      "provenance": [],
      "authorship_tag": "ABX9TyOI2GNMx744Xg38LwG8AZJ4",
      "include_colab_link": true
    },
    "kernelspec": {
      "name": "python3",
      "display_name": "Python 3"
    },
    "language_info": {
      "name": "python"
    }
  },
  "cells": [
    {
      "cell_type": "markdown",
      "metadata": {
        "id": "view-in-github",
        "colab_type": "text"
      },
      "source": [
        "<a href=\"https://colab.research.google.com/github/Elwing-Chou/tibame_night_20250825/blob/main/tibame_20250903.ipynb\" target=\"_parent\"><img src=\"https://colab.research.google.com/assets/colab-badge.svg\" alt=\"Open In Colab\"/></a>"
      ]
    },
    {
      "cell_type": "markdown",
      "source": [
        "\n",
        "\n",
        "```\n",
        "\n",
        "Local電腦 <---- 單向溝通 ----> Server電腦\n",
        "\n",
        "Local問Server, Server回答Local\n",
        "     (輸入網址)       (mp3/mp4/docx/網頁)\n",
        "\n",
        "\n",
        "1. 隱藏網址\n",
        "2. 網址有個問號, 問號後面帶著一組一組參數\n",
        "```\n",
        "\n"
      ],
      "metadata": {
        "id": "ACX8erwZQQYJ"
      }
    },
    {
      "cell_type": "markdown",
      "source": [
        "\n",
        "\n",
        "```\n",
        "WIN: -headers \"Origin: https://ani.gamer.com.tw\" -i \"\" anime.mp4\n",
        "\n",
        "MAC: -headers 'Origin: https://ani.gamer.com.tw' -i '' anime.mp4\n",
        "\n",
        "ffmpeg(用拉的) 複製並且把-i後面的\"\"填入m3u8\n",
        "\n",
        "只要是下指令都是\n",
        "\n",
        "執行檔 參數\n",
        "\n",
        "1. 短參數: -用途 xxxx\n",
        "2. 長參數: --用途 xxxx\n",
        "3. 位置參數: xxxx\n",
        "\n",
        "```\n",
        "\n"
      ],
      "metadata": {
        "id": "kkAe4xYLcYK-"
      }
    },
    {
      "cell_type": "code",
      "execution_count": null,
      "metadata": {
        "id": "jmecfAwNQHH7"
      },
      "outputs": [],
      "source": []
    }
  ]
}