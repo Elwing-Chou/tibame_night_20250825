{
  "nbformat": 4,
  "nbformat_minor": 0,
  "metadata": {
    "colab": {
      "provenance": [],
      "authorship_tag": "ABX9TyOAYTbwRt5ku0zwN2FtXqoJ",
      "include_colab_link": true
    },
    "kernelspec": {
      "name": "python3",
      "display_name": "Python 3"
    },
    "language_info": {
      "name": "python"
    }
  },
  "cells": [
    {
      "cell_type": "markdown",
      "metadata": {
        "id": "view-in-github",
        "colab_type": "text"
      },
      "source": [
        "<a href=\"https://colab.research.google.com/github/Elwing-Chou/tibame_night_20250825/blob/main/tibame_20250903.ipynb\" target=\"_parent\"><img src=\"https://colab.research.google.com/assets/colab-badge.svg\" alt=\"Open In Colab\"/></a>"
      ]
    },
    {
      "cell_type": "markdown",
      "source": [
        "\n",
        "\n",
        "```\n",
        "\n",
        "Local電腦 <---- 單向溝通 ----> Server電腦\n",
        "\n",
        "Local問Server, Server回答Local\n",
        "     (輸入網址)       (mp3/mp4/docx/網頁)\n",
        "\n",
        "\n",
        "1. 隱藏網址\n",
        "2. 網址有個問號, 問號後面帶著一組一組參數\n",
        "```\n",
        "\n"
      ],
      "metadata": {
        "id": "ACX8erwZQQYJ"
      }
    },
    {
      "cell_type": "markdown",
      "source": [
        "\n",
        "\n",
        "```\n",
        "WIN: -headers \"Origin: https://ani.gamer.com.tw\" -i \"\" anime.mp4\n",
        "\n",
        "MAC: -headers 'Origin: https://ani.gamer.com.tw' -i '' anime.mp4\n",
        "\n",
        "ffmpeg(用拉的) 複製並且把-i後面的\"\"填入m3u8\n",
        "\n",
        "只要是下指令都是\n",
        "\n",
        "執行檔 參數\n",
        "\n",
        "1. 短參數: -用途 xxxx\n",
        "2. 長參數: --用途 xxxx\n",
        "3. 位置參數: xxxx\n",
        "\n",
        "```\n",
        "\n"
      ],
      "metadata": {
        "id": "kkAe4xYLcYK-"
      }
    },
    {
      "cell_type": "code",
      "source": [
        "f = open(\"a.txt\", \"w\", encoding=\"utf-8\")\n",
        "# write(f, \"xxxxx\")\n",
        "# 專屬功能: f移到前面做一個強調\n",
        "f.write(\"3\")\n",
        "# close(f)\n",
        "f.close()"
      ],
      "metadata": {
        "id": "YrirWzOPnd-D"
      },
      "execution_count": 4,
      "outputs": []
    },
    {
      "cell_type": "code",
      "source": [
        "f = open(\"a.txt\", \"r\", encoding=\"utf-8\")\n",
        "# content = read(f)\n",
        "content = f.read()\n",
        "print(content)\n",
        "print(type(content))\n",
        "f.close()"
      ],
      "metadata": {
        "colab": {
          "base_uri": "https://localhost:8080/"
        },
        "id": "53XRoNPeod0n",
        "outputId": "2de35083-67d8-456c-c743-c2698f9655b3"
      },
      "execution_count": 5,
      "outputs": [
        {
          "output_type": "stream",
          "name": "stdout",
          "text": [
            "3\n",
            "<class 'str'>\n"
          ]
        }
      ]
    },
    {
      "cell_type": "markdown",
      "source": [
        "\n",
        "\n",
        "```\n",
        "JSON格式: list+dict\n",
        "\n",
        "展覽 = [\n",
        "    {地點:[{電話:[]}, {}]},\n",
        "    {},\n",
        "    {}\n",
        "]\n",
        "\n",
        "```\n",
        "\n"
      ],
      "metadata": {
        "id": "URC43XQQsdRD"
      }
    },
    {
      "cell_type": "code",
      "execution_count": null,
      "metadata": {
        "id": "jmecfAwNQHH7"
      },
      "outputs": [],
      "source": [
        "import json\n",
        "import urllib.request as req\n",
        "\n",
        "url = \"https://api.gamer.com.tw/anime/v1/danmu.php?videoSn=36632&geo=TW%2CHK\"\n",
        "f = req.urlopen(url)\n",
        "content = f.read()\n",
        "# print(content)\n",
        "# print(type(content))\n",
        "content_converted = json.loads(content)\n",
        "# print(type(content_converted))\n",
        "\n",
        "# converted: dict\n",
        "# [\"data\"]: dict\n",
        "# [\"danmu\"]: list\n",
        "danmus = content_converted[\"data\"][\"danmu\"]\n",
        "# d: dict\n",
        "for d in danmus:\n",
        "    print(d[\"userid\"], d[\"text\"])"
      ]
    }
  ]
}