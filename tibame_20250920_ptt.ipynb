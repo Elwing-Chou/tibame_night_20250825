{
  "nbformat": 4,
  "nbformat_minor": 0,
  "metadata": {
    "colab": {
      "provenance": [],
      "authorship_tag": "ABX9TyP9122YhsORs9pp9XrAy9lP",
      "include_colab_link": true
    },
    "kernelspec": {
      "name": "python3",
      "display_name": "Python 3"
    },
    "language_info": {
      "name": "python"
    }
  },
  "cells": [
    {
      "cell_type": "markdown",
      "metadata": {
        "id": "view-in-github",
        "colab_type": "text"
      },
      "source": [
        "<a href=\"https://colab.research.google.com/github/Elwing-Chou/tibame_night_20250825/blob/main/tibame_20250920_ptt.ipynb\" target=\"_parent\"><img src=\"https://colab.research.google.com/assets/colab-badge.svg\" alt=\"Open In Colab\"/></a>"
      ]
    },
    {
      "cell_type": "markdown",
      "source": [
        "\n",
        "\n",
        "```\n",
        "表格固定格式: [{}, {}, {}]\n",
        "\n",
        "bs4: extract() 相當於把這行從文件裡刪除(沒有回頭路!!!)\n",
        "\n",
        "\n",
        "檔案名字是不能出現 \\ /\n",
        "\\ /: 資料夾路徑的分隔\n",
        "\n",
        "```\n",
        "\n"
      ],
      "metadata": {
        "id": "lx7k9a9hvRGF"
      }
    },
    {
      "cell_type": "code",
      "execution_count": 35,
      "metadata": {
        "colab": {
          "base_uri": "https://localhost:8080/"
        },
        "id": "rCLTaiCyqu6r",
        "outputId": "94d1ddd8-5958-40d0-c534-139f78003ded"
      },
      "outputs": [
        {
          "output_type": "stream",
          "name": "stdout",
          "text": [
            "Save to: M.1758273800.A.03F.html/metadata.json\n"
          ]
        }
      ],
      "source": [
        "import os\n",
        "import json\n",
        "import urllib.request as req\n",
        "import bs4 as bs\n",
        "\n",
        "url = \"https://www.ptt.cc/bbs/Beauty/M.1758273800.A.03F.html\"\n",
        "resp = req.urlopen(url)\n",
        "content = resp.read()\n",
        "html = bs.BeautifulSoup(content)\n",
        "\n",
        "metas = html.find_all(\"span\", {\"class\":\"article-meta-value\"})\n",
        "uid = metas[0]\n",
        "board = metas[1]\n",
        "title = metas[2]\n",
        "posttime = metas[3]\n",
        "\n",
        "\n",
        "uid_text = uid.get_text().strip()\n",
        "board_text = board.get_text().strip()\n",
        "title_text = title.get_text().strip()\n",
        "posttime_text = posttime.get_text().strip()\n",
        "\n",
        "pushes = html.find_all(\"div\", {\"class\":\"push\"})\n",
        "push_list = []\n",
        "for p in pushes:\n",
        "    trans = {\"推\":1, \"→\":0, \"噓\":-1}\n",
        "    pushtag = p.find(\"span\", {\"class\":\"push-tag\"})\n",
        "    pushuid = p.find(\"span\", {\"class\":\"push-userid\"})\n",
        "    pushcontent = p.find(\"span\", {\"class\":\"push-content\"})\n",
        "    pushipdatetime = p.find(\"span\", {\"class\":\"push-ipdatetime\"})\n",
        "\n",
        "    pushtag_text = pushtag.get_text().strip()\n",
        "    pushtag_score = trans[pushtag_text]\n",
        "    pushuid_text = pushuid.get_text().strip()\n",
        "    pushcontent_text = pushcontent.get_text().strip().replace(\": \", \"\")\n",
        "    pushipdatetime_text = pushipdatetime.get_text().strip()\n",
        "\n",
        "    push_meta = {\n",
        "        \"score\": pushtag_score,\n",
        "        \"uid\": pushuid_text,\n",
        "        \"content\": pushcontent_text,\n",
        "        \"ipdatetime\": pushipdatetime_text\n",
        "    }\n",
        "    push_list.append(push_meta)\n",
        "\n",
        "# extract: 我都放最後做(因為刪了就刪了)\n",
        "maincontent = html.find(\"div\", {\"id\":\"main-content\"})\n",
        "targets = html.find_all(\"div\", {\"class\":\"article-metaline\"})\n",
        "for t in targets:\n",
        "    t.extract()\n",
        "targets = html.find_all(\"div\", {\"class\":\"article-metaline-right\"})\n",
        "for t in targets:\n",
        "    t.extract()\n",
        "targets = html.find_all(\"div\", {\"class\":\"push\"})\n",
        "for t in targets:\n",
        "    t.extract()\n",
        "maincontent_text = maincontent.get_text()\n",
        "\n",
        "# userid/看板名稱/標題/時間  推虛文: 推需>/userid/內容/ipdatetime\n",
        "row = {\n",
        "    \"uid\": uid_text,\n",
        "    \"board\": board_text,\n",
        "    \"title\": title_text,\n",
        "    \"time\": posttime_text,\n",
        "    \"content\": maincontent_text,\n",
        "    \"pushes\": push_list\n",
        "}\n",
        "\n",
        "dn = url.split(\"/\")[-1]\n",
        "fn = dn + \"/\" + \"metadata.json\"\n",
        "print(\"Save to:\", fn)\n",
        "# 如果資料夾不存在, 就make起來\n",
        "if not os.path.exists(dn):\n",
        "    os.makedirs(dn)\n",
        "\n",
        "with open(fn, \"w\", encoding=\"utf-8\") as f:\n",
        "    json.dump(row, f, ensure_ascii=False, indent=4)"
      ]
    },
    {
      "cell_type": "code",
      "source": [
        "import json\n",
        "# loads(o)\n",
        "with open(\"demo.json\", \"r\", encoding=\"utf-8\") as f:\n",
        "    content = f.read()\n",
        "    content_converted = json.loads(content)\n",
        "    print(content_converted)\n",
        "# load\n",
        "with open(\"demo.json\", \"r\", encoding=\"utf-8\") as f:\n",
        "    content_converted = json.load(f)\n",
        "    print(content_converted)\n",
        "\n",
        "# dumps(o)\n",
        "with open(\"demo2.json\", \"w\", encoding=\"utf-8\") as f:\n",
        "    content_s = json.dumps(content_converted)\n",
        "    f.write(content_s)\n",
        "# dump\n",
        "with open(\"demo3.json\", \"w\", encoding=\"utf-8\") as f:\n",
        "    json.dump(content_converted, f)"
      ],
      "metadata": {
        "colab": {
          "base_uri": "https://localhost:8080/"
        },
        "id": "aEUs1tj6ELCX",
        "outputId": "a8ba3343-35a5-4302-cfea-2819fd71e2fd"
      },
      "execution_count": 21,
      "outputs": [
        {
          "output_type": "stream",
          "name": "stdout",
          "text": [
            "{'name': 'Elwing', 'height': 175}\n",
            "{'name': 'Elwing', 'height': 175}\n"
          ]
        }
      ]
    },
    {
      "cell_type": "code",
      "source": [
        "# 路徑\n",
        "# raw\n",
        "s = r\"C:\\\\new\\nice\"\n",
        "print(s)\n",
        "\n",
        "# 路徑別打上面的樣子\n",
        "# 好習慣: 路徑永遠/\n",
        "s = \"new/nice\"\n",
        "print(s)\n"
      ],
      "metadata": {
        "colab": {
          "base_uri": "https://localhost:8080/"
        },
        "id": "zkXeFvC_FqPD",
        "outputId": "5b1f1b35-3053-4a69-ca76-3db585712fc6"
      },
      "execution_count": 28,
      "outputs": [
        {
          "output_type": "stream",
          "name": "stdout",
          "text": [
            "C:\\\\new\\nice\n",
            "new/nice\n"
          ]
        }
      ]
    },
    {
      "cell_type": "code",
      "source": [
        "import os\n",
        "if not os.path.exists(\"1/2/3/4\"):\n",
        "    os.makedirs(\"1/2/3/4\")"
      ],
      "metadata": {
        "id": "gOAOSou0NOJ8"
      },
      "execution_count": 34,
      "outputs": []
    }
  ]
}