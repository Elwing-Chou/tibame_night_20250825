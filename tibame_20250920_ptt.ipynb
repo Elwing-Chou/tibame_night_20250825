{
  "nbformat": 4,
  "nbformat_minor": 0,
  "metadata": {
    "colab": {
      "provenance": [],
      "authorship_tag": "ABX9TyN7/yHX5foS2Sy/JdeULRD3",
      "include_colab_link": true
    },
    "kernelspec": {
      "name": "python3",
      "display_name": "Python 3"
    },
    "language_info": {
      "name": "python"
    }
  },
  "cells": [
    {
      "cell_type": "markdown",
      "metadata": {
        "id": "view-in-github",
        "colab_type": "text"
      },
      "source": [
        "<a href=\"https://colab.research.google.com/github/Elwing-Chou/tibame_night_20250825/blob/main/tibame_20250920_ptt.ipynb\" target=\"_parent\"><img src=\"https://colab.research.google.com/assets/colab-badge.svg\" alt=\"Open In Colab\"/></a>"
      ]
    },
    {
      "cell_type": "markdown",
      "source": [
        "\n",
        "\n",
        "```\n",
        "[{}, {}, {}]\n",
        "\n",
        "```\n",
        "\n"
      ],
      "metadata": {
        "id": "lx7k9a9hvRGF"
      }
    },
    {
      "cell_type": "code",
      "execution_count": null,
      "metadata": {
        "id": "rCLTaiCyqu6r"
      },
      "outputs": [],
      "source": [
        "import urllib.request as req\n",
        "import bs4 as bs\n",
        "\n",
        "url = \"https://www.ptt.cc/bbs/Beauty/M.1758273800.A.03F.html\"\n",
        "resp = req.urlopen(url)\n",
        "content = resp.read()\n",
        "html = bs.BeautifulSoup(content)\n",
        "print(html)\n",
        "\n",
        "# userid/看板名稱/標題/時間  推虛文: 推需>/userid/內容/ipdatetime\n",
        "row = {\n",
        "    \"uid\":\n",
        "    \"board\":\n",
        "    \"title\":\n",
        "    \"time\"\n",
        "    \"pushes\":[\n",
        "        {\n",
        "            \"score\": #推:1 ->:0 噓:-1\n",
        "            \"uid\":\n",
        "            \"content\":\n",
        "            \"ipdatetime\":\n",
        "        }\n",
        "    ]\n",
        "}"
      ]
    }
  ]
}