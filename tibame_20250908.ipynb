{
  "nbformat": 4,
  "nbformat_minor": 0,
  "metadata": {
    "colab": {
      "provenance": [],
      "authorship_tag": "ABX9TyPPAQm/VPHfYLlSCvw9WpTC",
      "include_colab_link": true
    },
    "kernelspec": {
      "name": "python3",
      "display_name": "Python 3"
    },
    "language_info": {
      "name": "python"
    }
  },
  "cells": [
    {
      "cell_type": "markdown",
      "metadata": {
        "id": "view-in-github",
        "colab_type": "text"
      },
      "source": [
        "<a href=\"https://colab.research.google.com/github/Elwing-Chou/tibame_night_20250825/blob/main/tibame_20250908.ipynb\" target=\"_parent\"><img src=\"https://colab.research.google.com/assets/colab-badge.svg\" alt=\"Open In Colab\"/></a>"
      ]
    },
    {
      "cell_type": "code",
      "source": [
        "!pip install pandas"
      ],
      "metadata": {
        "id": "e0sr4TOHDwOr"
      },
      "execution_count": null,
      "outputs": []
    },
    {
      "cell_type": "code",
      "execution_count": 5,
      "metadata": {
        "id": "O-z_Fw1HCrUq"
      },
      "outputs": [],
      "source": [
        "import json\n",
        "import urllib.request as req\n",
        "import pandas as pd\n",
        "\n",
        "url = \"https://api.gamer.com.tw/anime/v1/danmu.php?videoSn=36632&geo=TW%2CHK\"\n",
        "f = req.urlopen(url)\n",
        "content = f.read()\n",
        "content_converted = json.loads(content)\n",
        "\n",
        "# [彈幕, ....]\n",
        "# [一列, 一列...]\n",
        "danmus = content_converted[\"data\"][\"danmu\"]\n",
        "# 型態轉換: DataFrame(pandas自訂表格型態)\n",
        "df = pd.DataFrame(danmus)\n",
        "# 如果你不要列標籤(index=False)\n",
        "df.to_csv(\"danmu.csv\", encoding=\"utf-8\")\n",
        "df.to_excel(\"danmu.xlsx\")"
      ]
    },
    {
      "cell_type": "code",
      "source": [
        "import pandas as pd\n",
        "# 如果你有index的話, 多帶index_col\n",
        "df = pd.read_csv(\"danmu.csv\", encoding=\"utf-8\", index_col=0)\n",
        "df"
      ],
      "metadata": {
        "id": "33_5zskkES-u"
      },
      "execution_count": null,
      "outputs": []
    },
    {
      "cell_type": "markdown",
      "source": [
        "\n",
        "\n",
        "```\n",
        "pandas兩大操作\n",
        "1. 過濾: O\n",
        "2. 轉換:\n",
        "\n",
        "```\n",
        "\n"
      ],
      "metadata": {
        "id": "yp7J44KqF8q0"
      }
    },
    {
      "cell_type": "code",
      "source": [
        "# 過濾的原理: 帶入([])跟你資料筆數一樣多的True/False\n",
        "# True: 留下   False: 去除掉\n",
        "fil = [True, False, False]\n",
        "df.head(3)[fil]"
      ],
      "metadata": {
        "id": "FjI2PFv8HbAO"
      },
      "execution_count": null,
      "outputs": []
    },
    {
      "cell_type": "code",
      "source": [
        "# 取行\n",
        "df[\"userid\"]\n",
        "cols = [\"userid\", \"text\"]\n",
        "df[cols]"
      ],
      "metadata": {
        "id": "TrUi9xo8IvBl"
      },
      "execution_count": null,
      "outputs": []
    }
  ]
}