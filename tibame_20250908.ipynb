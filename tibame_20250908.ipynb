{
  "nbformat": 4,
  "nbformat_minor": 0,
  "metadata": {
    "colab": {
      "provenance": [],
      "authorship_tag": "ABX9TyMgZU6sedbRYReFortrJ49d",
      "include_colab_link": true
    },
    "kernelspec": {
      "name": "python3",
      "display_name": "Python 3"
    },
    "language_info": {
      "name": "python"
    }
  },
  "cells": [
    {
      "cell_type": "markdown",
      "metadata": {
        "id": "view-in-github",
        "colab_type": "text"
      },
      "source": [
        "<a href=\"https://colab.research.google.com/github/Elwing-Chou/tibame_night_20250825/blob/main/tibame_20250908.ipynb\" target=\"_parent\"><img src=\"https://colab.research.google.com/assets/colab-badge.svg\" alt=\"Open In Colab\"/></a>"
      ]
    },
    {
      "cell_type": "code",
      "source": [
        "!pip install pandas"
      ],
      "metadata": {
        "id": "e0sr4TOHDwOr"
      },
      "execution_count": null,
      "outputs": []
    },
    {
      "cell_type": "code",
      "execution_count": 5,
      "metadata": {
        "id": "O-z_Fw1HCrUq"
      },
      "outputs": [],
      "source": [
        "import json\n",
        "import urllib.request as req\n",
        "import pandas as pd\n",
        "\n",
        "url = \"https://api.gamer.com.tw/anime/v1/danmu.php?videoSn=36632&geo=TW%2CHK\"\n",
        "f = req.urlopen(url)\n",
        "content = f.read()\n",
        "content_converted = json.loads(content)\n",
        "\n",
        "# [彈幕, ....]\n",
        "# [一列, 一列...]\n",
        "danmus = content_converted[\"data\"][\"danmu\"]\n",
        "# 型態轉換: DataFrame(pandas自訂表格型態)\n",
        "df = pd.DataFrame(danmus)\n",
        "# 如果你不要列標籤(index=False)\n",
        "df.to_csv(\"danmu.csv\", encoding=\"utf-8\")\n",
        "df.to_excel(\"danmu.xlsx\")"
      ]
    },
    {
      "cell_type": "code",
      "source": [],
      "metadata": {
        "id": "33_5zskkES-u"
      },
      "execution_count": null,
      "outputs": []
    }
  ]
}