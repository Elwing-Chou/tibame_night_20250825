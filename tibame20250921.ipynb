{
  "nbformat": 4,
  "nbformat_minor": 0,
  "metadata": {
    "colab": {
      "provenance": [],
      "authorship_tag": "ABX9TyPffGo1jSzldMPTWclwXPIW",
      "include_colab_link": true
    },
    "kernelspec": {
      "name": "python3",
      "display_name": "Python 3"
    },
    "language_info": {
      "name": "python"
    }
  },
  "cells": [
    {
      "cell_type": "markdown",
      "metadata": {
        "id": "view-in-github",
        "colab_type": "text"
      },
      "source": [
        "<a href=\"https://colab.research.google.com/github/Elwing-Chou/tibame_night_20250825/blob/main/tibame20250921.ipynb\" target=\"_parent\"><img src=\"https://colab.research.google.com/assets/colab-badge.svg\" alt=\"Open In Colab\"/></a>"
      ]
    },
    {
      "cell_type": "code",
      "execution_count": 3,
      "metadata": {
        "id": "v9wnZaRD1Lnt"
      },
      "outputs": [],
      "source": [
        "import os\n",
        "import json\n",
        "import urllib.request as req\n",
        "import bs4 as bs\n",
        "\n",
        "def download_meta(url):\n",
        "    # url = \"https://www.ptt.cc/bbs/Beauty/M.1758273800.A.03F.html\"\n",
        "    resp = req.urlopen(url)\n",
        "    content = resp.read()\n",
        "    html = bs.BeautifulSoup(content)\n",
        "\n",
        "    metas = html.find_all(\"span\", {\"class\":\"article-meta-value\"})\n",
        "    uid = metas[0]\n",
        "    board = metas[1]\n",
        "    title = metas[2]\n",
        "    posttime = metas[3]\n",
        "\n",
        "\n",
        "    uid_text = uid.get_text().strip()\n",
        "    board_text = board.get_text().strip()\n",
        "    title_text = title.get_text().strip()\n",
        "    posttime_text = posttime.get_text().strip()\n",
        "\n",
        "    pushes = html.find_all(\"div\", {\"class\":\"push\"})\n",
        "    push_list = []\n",
        "    for p in pushes:\n",
        "        trans = {\"推\":1, \"→\":0, \"噓\":-1}\n",
        "        pushtag = p.find(\"span\", {\"class\":\"push-tag\"})\n",
        "        pushuid = p.find(\"span\", {\"class\":\"push-userid\"})\n",
        "        pushcontent = p.find(\"span\", {\"class\":\"push-content\"})\n",
        "        pushipdatetime = p.find(\"span\", {\"class\":\"push-ipdatetime\"})\n",
        "\n",
        "        pushtag_text = pushtag.get_text().strip()\n",
        "        pushtag_score = trans[pushtag_text]\n",
        "        pushuid_text = pushuid.get_text().strip()\n",
        "        pushcontent_text = pushcontent.get_text().strip().replace(\": \", \"\")\n",
        "        pushipdatetime_text = pushipdatetime.get_text().strip()\n",
        "\n",
        "        push_meta = {\n",
        "            \"score\": pushtag_score,\n",
        "            \"uid\": pushuid_text,\n",
        "            \"content\": pushcontent_text,\n",
        "            \"ipdatetime\": pushipdatetime_text\n",
        "        }\n",
        "        push_list.append(push_meta)\n",
        "\n",
        "    # extract: 我都放最後做(因為刪了就刪了)\n",
        "    maincontent = html.find(\"div\", {\"id\":\"main-content\"})\n",
        "    targets = html.find_all(\"div\", {\"class\":\"article-metaline\"})\n",
        "    for t in targets:\n",
        "        t.extract()\n",
        "    targets = html.find_all(\"div\", {\"class\":\"article-metaline-right\"})\n",
        "    for t in targets:\n",
        "        t.extract()\n",
        "    targets = html.find_all(\"div\", {\"class\":\"push\"})\n",
        "    for t in targets:\n",
        "        t.extract()\n",
        "    maincontent_text = maincontent.get_text()\n",
        "\n",
        "    # userid/看板名稱/標題/時間  推虛文: 推需>/userid/內容/ipdatetime\n",
        "    row = {\n",
        "        \"uid\": uid_text,\n",
        "        \"board\": board_text,\n",
        "        \"title\": title_text,\n",
        "        \"time\": posttime_text,\n",
        "        \"content\": maincontent_text,\n",
        "        \"pushes\": push_list\n",
        "    }\n",
        "\n",
        "    dn = url.split(\"/\")[-1]\n",
        "    fn = dn + \"/\" + \"metadata.json\"\n",
        "    print(\"Save to:\", fn)\n",
        "    # 如果資料夾不存在, 就make起來\n",
        "    if not os.path.exists(dn):\n",
        "        os.makedirs(dn)\n",
        "\n",
        "    with open(fn, \"w\", encoding=\"utf-8\") as f:\n",
        "        json.dump(row, f, ensure_ascii=False, indent=4)"
      ]
    },
    {
      "cell_type": "markdown",
      "source": [
        "\n",
        "\n",
        "```\n",
        "當你沒有class/id可以篩選的時候\n",
        "1. 抓包他的區塊\n",
        "2. 自己寫\n",
        "```\n",
        "\n"
      ],
      "metadata": {
        "id": "KWDlDSG-3Z1X"
      }
    },
    {
      "cell_type": "code",
      "source": [
        "url = \"https://www.ptt.cc/bbs/Beauty/M.1758273800.A.03F.html\"\n",
        "resp = req.urlopen(url)\n",
        "content = resp.read()\n",
        "html = bs.BeautifulSoup(content)\n",
        "\n",
        "allow_subs = [\"jpg\", \"jpeg\", \"png\", \"gif\", \"webp\"]\n",
        "links = html.find_all(\"a\")\n",
        "for l in links:\n",
        "    l_href = l[\"href\"]\n",
        "    l_subname = l_href.split(\".\")[-1]\n",
        "    if l_subname.lower() in allow_subs:\n",
        "        print(\"download:\", l_href)\n",
        "        r = req.Request(l_href)\n",
        "        r.add_header(\"user-agent\", \"Mozilla/5.0 (Windows NT 10.0; Win64; x64) AppleWebKit/537.36 (KHTML, like Gecko) Chrome/140.0.0.0 Safari/537.36 Edg/140.0.0.0\")\n",
        "        resp = req.urlopen(r)\n",
        "        content = resp.read()\n",
        "\n",
        "        dn = url.split(\"/\")[-1]\n",
        "        fn = dn + \"/\" + l_href.split(\"/\")[-1]\n",
        "        print(\"Save to:\", fn)\n",
        "        # 如果資料夾不存在, 就make起來\n",
        "        if not os.path.exists(dn):\n",
        "            os.makedirs(dn)\n",
        "\n",
        "        with open(fn, \"wb\") as f:\n",
        "            f.write(content)\n",
        "    else:\n",
        "        print(\"pass:\", l_href)"
      ],
      "metadata": {
        "colab": {
          "base_uri": "https://localhost:8080/"
        },
        "id": "dyr2Fm1c24xC",
        "outputId": "ebb740ee-64e7-4e44-9218-9648d3490fb9"
      },
      "execution_count": 14,
      "outputs": [
        {
          "output_type": "stream",
          "name": "stdout",
          "text": [
            "pass: /bbs/\n",
            "pass: /bbs/Beauty/index.html\n",
            "pass: /about.html\n",
            "pass: /contact.html\n",
            "pass: /bbs/Beauty/index.html\n",
            "download: https://i.imgur.com/xoqr8vi.jpeg\n",
            "Save to: M.1758273800.A.03F.html/xoqr8vi.jpeg\n",
            "download: https://i.imgur.com/0qiditb.jpeg\n",
            "Save to: M.1758273800.A.03F.html/0qiditb.jpeg\n",
            "download: https://i.imgur.com/lrNXG9D.jpeg\n",
            "Save to: M.1758273800.A.03F.html/lrNXG9D.jpeg\n",
            "download: https://i.imgur.com/SDQN4s5.jpeg\n",
            "Save to: M.1758273800.A.03F.html/SDQN4s5.jpeg\n",
            "download: https://i.imgur.com/BIdEp5L.jpeg\n",
            "Save to: M.1758273800.A.03F.html/BIdEp5L.jpeg\n",
            "download: https://i.imgur.com/7Esx3AU.gif\n",
            "Save to: M.1758273800.A.03F.html/7Esx3AU.gif\n",
            "pass: https://www.youtube.com/shorts/C_T-M-T08v4\n",
            "pass: https://www.ptt.cc/bbs/Beauty/M.1758273800.A.03F.html\n"
          ]
        }
      ]
    },
    {
      "cell_type": "markdown",
      "source": [
        "\n",
        "\n",
        "```\n",
        "狀態代碼(看頭)\n",
        "\n",
        "2: 成功\n",
        "3: 轉址(輸入A, 轉到B)\n",
        "4: 失敗\n",
        "404: Not Found\n",
        "403:\n",
        "429: Unknown Error\n",
        "\n",
        "```\n",
        "\n"
      ],
      "metadata": {
        "id": "t-LJj_W89I8V"
      }
    },
    {
      "cell_type": "code",
      "source": [
        "imgurl = \"https://i.imgur.com/xoqr8vi.jpeg\"\n",
        "r = req.Request(imgurl)\n",
        "r.add_header(\"user-agent\", \"Mozilla/5.0 (Windows NT 10.0; Win64; x64) AppleWebKit/537.36 (KHTML, like Gecko) Chrome/140.0.0.0 Safari/537.36 Edg/140.0.0.0\")\n",
        "resp = req.urlopen(r)\n",
        "content = resp.read()\n",
        "\n",
        "# 純文字: open(檔名, \"w\"/\"r\", encoding=\"utf-8\")\n",
        "# 非純文字: open(檔名, \"wb\"/\"rb\")\n",
        "with open(\"test.png\", \"wb\") as f:\n",
        "    f.write(content)"
      ],
      "metadata": {
        "id": "t9GW1jrG63Bp"
      },
      "execution_count": 12,
      "outputs": []
    }
  ]
}